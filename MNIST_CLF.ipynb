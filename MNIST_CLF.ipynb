{
  "nbformat": 4,
  "nbformat_minor": 0,
  "metadata": {
    "colab": {
      "name": "MNIST_CLF.ipynb",
      "version": "0.3.2",
      "provenance": [],
      "collapsed_sections": [],
      "include_colab_link": true
    },
    "kernelspec": {
      "name": "python3",
      "display_name": "Python 3"
    }
  },
  "cells": [
    {
      "cell_type": "markdown",
      "metadata": {
        "id": "view-in-github",
        "colab_type": "text"
      },
      "source": [
        "[View in Colaboratory](https://colab.research.google.com/github/m3eeza/MNIST-Classifier/blob/master/MNIST_CLF.ipynb)"
      ]
    },
    {
      "metadata": {
        "id": "7mp7PPwU3kr3",
        "colab_type": "text"
      },
      "cell_type": "markdown",
      "source": [
        "#Building a Classifier for the MNIST Dataset\n",
        "In this project we are trying to develop a calssifier for the digits in the MNIST dataset using neural networks. "
      ]
    },
    {
      "metadata": {
        "id": "i2NdtKXC4oma",
        "colab_type": "text"
      },
      "cell_type": "markdown",
      "source": [
        "##Loading the data"
      ]
    },
    {
      "metadata": {
        "id": "Tr3XRzkQ3iYj",
        "colab_type": "code",
        "colab": {
          "base_uri": "https://localhost:8080/",
          "height": 34
        },
        "outputId": "a0271bde-6545-4cf5-f337-4b1e87d1868f"
      },
      "cell_type": "code",
      "source": [
        "import numpy as np\n",
        "from keras.datasets import mnist\n",
        "\n",
        "(X_train, Y_train), (X_test, Y_test) = mnist.load_data()\n",
        "print('The dataset was loaded successfully!')"
      ],
      "execution_count": 4,
      "outputs": [
        {
          "output_type": "stream",
          "text": [
            "The dataset was loaded successfully!\n"
          ],
          "name": "stdout"
        }
      ]
    },
    {
      "metadata": {
        "id": "R0uyP9Wa4--v",
        "colab_type": "text"
      },
      "cell_type": "markdown",
      "source": [
        "##Data Exploration"
      ]
    },
    {
      "metadata": {
        "id": "Lq0QvB4f3UTy",
        "colab_type": "code",
        "colab": {
          "base_uri": "https://localhost:8080/",
          "height": 191
        },
        "outputId": "b9def9db-667e-47dd-83ff-236357214493"
      },
      "cell_type": "code",
      "source": [
        "import matplotlib.pyplot as plt\n",
        "\n",
        "print(X_train.size)\n",
        "print(X_train[0].size)\n",
        "print(Y_train.size)\n",
        "print(X_train.shape)\n",
        "print(Y_train.shape)\n",
        "print(Y_test.size)\n",
        "\n",
        "\n",
        "\n",
        "\n",
        "i=0\n",
        "for i in range(10):\n",
        "  plt.subplot(1, 10, i+1)\n",
        "  plt.imshow(X_train[i])\n"
      ],
      "execution_count": 34,
      "outputs": [
        {
          "output_type": "stream",
          "text": [
            "47040000\n",
            "784\n",
            "60000\n",
            "(60000, 28, 28)\n",
            "(60000,)\n",
            "10000\n"
          ],
          "name": "stdout"
        },
        {
          "output_type": "display_data",
          "data": {
            "image/png": "[encoded data removed]",
            "text/plain": [
              "<matplotlib.figure.Figure at 0x7faca64bb588>"
            ]
          },
          "metadata": {
            "tags": []
          }
        }
      ]
    },
    {
      "metadata": {
        "id": "y6Hj2SZ-8s8h",
        "colab_type": "text"
      },
      "cell_type": "markdown",
      "source": [
        "##Building Our Model"
      ]
    },
    {
      "metadata": {
        "id": "33uaW5Ao80Jj",
        "colab_type": "code",
        "colab": {
          "base_uri": "https://localhost:8080/",
          "height": 51
        },
        "outputId": "d57358b6-cfa3-41a4-a957-87a983be7219"
      },
      "cell_type": "code",
      "source": [
        "from keras.models import Sequential\n",
        "from keras.utils import to_categorical\n",
        "from keras.layers import Dense, Activation, Dropout\n",
        "\n",
        "model = Sequential()\n",
        "\n",
        "# adding the first layer\n",
        "model.add(Dense(units=1000, input_shape=(784,), activation='relu'))\n",
        "model.add(Dropout(0.3))\n",
        "\n",
        "# adding the output layer\n",
        "model.add(Dense(units=10, activation='softmax'))\n",
        "\n",
        "# compiling\n",
        "model.compile(optimizer='adam', loss='categorical_crossentropy',metrics=['accuracy'])\n",
        "\n",
        "print('The model compiled successfully!')\n",
        "print('Shape of output layer:',model.output_shape)\n"
      ],
      "execution_count": 22,
      "outputs": [
        {
          "output_type": "stream",
          "text": [
            "The model compiled successfully!\n",
            "Shape of output layer: (None, 10)\n"
          ],
          "name": "stdout"
        }
      ]
    },
    {
      "metadata": {
        "id": "M6F-QJrF-L16",
        "colab_type": "text"
      },
      "cell_type": "markdown",
      "source": [
        "##Fitting the model"
      ]
    },
    {
      "metadata": {
        "id": "PQlyG7Ju-PAr",
        "colab_type": "code",
        "colab": {
          "base_uri": "https://localhost:8080/",
          "height": 1771
        },
        "outputId": "254fea86-ebd9-45f8-e0ec-d532c2e1acfd"
      },
      "cell_type": "code",
      "source": [
        "Y_train_categorical = to_categorical(Y_train, num_classes=10)\n",
        "\n",
        "X_train_flat = X_train.reshape(60000,784)\n",
        "\n",
        "X_train_flat = X_train_flat/ 255\n",
        "\n",
        "model.fit(x=X_train_flat, y=Y_train_categorical, batch_size=1000, epochs=50, verbose=1, validation_split=0.2)"
      ],
      "execution_count": 28,
      "outputs": [
        {
          "output_type": "stream",
          "text": [
            "Train on 48000 samples, validate on 12000 samples\n",
            "Epoch 1/50\n",
            "48000/48000 [==============================] - 4s 85us/step - loss: 0.5560 - acc: 0.8429 - val_loss: 0.2456 - val_acc: 0.9308\n",
            "Epoch 2/50\n",
            "48000/48000 [==============================] - 4s 86us/step - loss: 0.2348 - acc: 0.9336 - val_loss: 0.1850 - val_acc: 0.9479\n",
            "Epoch 3/50\n",
            "48000/48000 [==============================] - 4s 87us/step - loss: 0.1755 - acc: 0.9506 - val_loss: 0.1518 - val_acc: 0.9589\n",
            "Epoch 4/50\n",
            "48000/48000 [==============================] - 4s 87us/step - loss: 0.1402 - acc: 0.9606 - val_loss: 0.1268 - val_acc: 0.9637\n",
            "Epoch 5/50\n",
            "47000/48000 [============================>.] - ETA: 0s - loss: 0.1150 - acc: 0.9670"
          ],
          "name": "stdout"
        },
        {
          "output_type": "stream",
          "text": [
            "48000/48000 [==============================] - 4s 85us/step - loss: 0.1153 - acc: 0.9670 - val_loss: 0.1146 - val_acc: 0.9667\n",
            "Epoch 6/50\n",
            "48000/48000 [==============================] - 4s 87us/step - loss: 0.0958 - acc: 0.9734 - val_loss: 0.1046 - val_acc: 0.9682\n",
            "Epoch 7/50\n",
            "48000/48000 [==============================] - 4s 86us/step - loss: 0.0834 - acc: 0.9762 - val_loss: 0.0968 - val_acc: 0.9709\n",
            "Epoch 8/50\n",
            "48000/48000 [==============================] - 4s 84us/step - loss: 0.0730 - acc: 0.9796 - val_loss: 0.0907 - val_acc: 0.9731\n",
            "Epoch 9/50\n",
            "48000/48000 [==============================] - 4s 88us/step - loss: 0.0637 - acc: 0.9829 - val_loss: 0.0852 - val_acc: 0.9748\n",
            "Epoch 10/50\n",
            "23000/48000 [=============>................] - ETA: 2s - loss: 0.0564 - acc: 0.9841"
          ],
          "name": "stdout"
        },
        {
          "output_type": "stream",
          "text": [
            "48000/48000 [==============================] - 4s 89us/step - loss: 0.0556 - acc: 0.9847 - val_loss: 0.0812 - val_acc: 0.9759\n",
            "Epoch 11/50\n",
            "48000/48000 [==============================] - 4s 86us/step - loss: 0.0498 - acc: 0.9867 - val_loss: 0.0776 - val_acc: 0.9772\n",
            "Epoch 12/50\n",
            "48000/48000 [==============================] - 4s 87us/step - loss: 0.0451 - acc: 0.9877 - val_loss: 0.0770 - val_acc: 0.9769\n",
            "Epoch 13/50\n",
            "48000/48000 [==============================] - 4s 86us/step - loss: 0.0394 - acc: 0.9897 - val_loss: 0.0725 - val_acc: 0.9782\n",
            "Epoch 14/50\n",
            "48000/48000 [==============================] - 4s 85us/step - loss: 0.0351 - acc: 0.9910 - val_loss: 0.0748 - val_acc: 0.9776\n",
            "Epoch 15/50\n",
            "19000/48000 [==========>...................] - ETA: 2s - loss: 0.0316 - acc: 0.9916"
          ],
          "name": "stdout"
        },
        {
          "output_type": "stream",
          "text": [
            "48000/48000 [==============================] - 4s 85us/step - loss: 0.0326 - acc: 0.9911 - val_loss: 0.0711 - val_acc: 0.9781\n",
            "Epoch 16/50\n",
            "48000/48000 [==============================] - 4s 85us/step - loss: 0.0296 - acc: 0.9927 - val_loss: 0.0706 - val_acc: 0.9791\n",
            "Epoch 17/50\n",
            "48000/48000 [==============================] - 4s 84us/step - loss: 0.0263 - acc: 0.9936 - val_loss: 0.0699 - val_acc: 0.9789\n",
            "Epoch 18/50\n",
            "48000/48000 [==============================] - 4s 84us/step - loss: 0.0234 - acc: 0.9939 - val_loss: 0.0695 - val_acc: 0.9789\n",
            "Epoch 19/50\n",
            "48000/48000 [==============================] - 4s 84us/step - loss: 0.0216 - acc: 0.9945 - val_loss: 0.0680 - val_acc: 0.9794\n",
            "Epoch 20/50\n",
            "19000/48000 [==========>...................] - ETA: 2s - loss: 0.0193 - acc: 0.9955"
          ],
          "name": "stdout"
        },
        {
          "output_type": "stream",
          "text": [
            "48000/48000 [==============================] - 4s 84us/step - loss: 0.0194 - acc: 0.9955 - val_loss: 0.0654 - val_acc: 0.9799\n",
            "Epoch 21/50\n",
            "48000/48000 [==============================] - 4s 84us/step - loss: 0.0184 - acc: 0.9957 - val_loss: 0.0687 - val_acc: 0.9801\n",
            "Epoch 22/50\n",
            "48000/48000 [==============================] - 4s 85us/step - loss: 0.0161 - acc: 0.9966 - val_loss: 0.0654 - val_acc: 0.9802\n",
            "Epoch 23/50\n",
            "48000/48000 [==============================] - 4s 86us/step - loss: 0.0150 - acc: 0.9971 - val_loss: 0.0671 - val_acc: 0.9805\n",
            "Epoch 24/50\n",
            "48000/48000 [==============================] - 4s 85us/step - loss: 0.0140 - acc: 0.9973 - val_loss: 0.0657 - val_acc: 0.9805\n",
            "Epoch 25/50\n",
            "19000/48000 [==========>...................] - ETA: 2s - loss: 0.0119 - acc: 0.9973"
          ],
          "name": "stdout"
        },
        {
          "output_type": "stream",
          "text": [
            "48000/48000 [==============================] - 4s 86us/step - loss: 0.0130 - acc: 0.9970 - val_loss: 0.0660 - val_acc: 0.9811\n",
            "Epoch 26/50\n",
            "48000/48000 [==============================] - 4s 83us/step - loss: 0.0117 - acc: 0.9978 - val_loss: 0.0642 - val_acc: 0.9808\n",
            "Epoch 27/50\n",
            "48000/48000 [==============================] - 4s 85us/step - loss: 0.0113 - acc: 0.9978 - val_loss: 0.0644 - val_acc: 0.9816\n",
            "Epoch 28/50\n",
            "48000/48000 [==============================] - 4s 86us/step - loss: 0.0102 - acc: 0.9982 - val_loss: 0.0656 - val_acc: 0.9812\n",
            "Epoch 29/50\n",
            "48000/48000 [==============================] - 4s 85us/step - loss: 0.0097 - acc: 0.9981 - val_loss: 0.0665 - val_acc: 0.9813\n",
            "Epoch 30/50\n",
            "19000/48000 [==========>...................] - ETA: 2s - loss: 0.0090 - acc: 0.9984"
          ],
          "name": "stdout"
        },
        {
          "output_type": "stream",
          "text": [
            "48000/48000 [==============================] - 4s 87us/step - loss: 0.0091 - acc: 0.9984 - val_loss: 0.0672 - val_acc: 0.9817\n",
            "Epoch 31/50\n",
            "48000/48000 [==============================] - 4s 85us/step - loss: 0.0089 - acc: 0.9983 - val_loss: 0.0664 - val_acc: 0.9818\n",
            "Epoch 32/50\n",
            "48000/48000 [==============================] - 4s 85us/step - loss: 0.0080 - acc: 0.9986 - val_loss: 0.0688 - val_acc: 0.9806\n",
            "Epoch 33/50\n",
            "48000/48000 [==============================] - 4s 85us/step - loss: 0.0075 - acc: 0.9989 - val_loss: 0.0666 - val_acc: 0.9819\n",
            "Epoch 34/50\n",
            "48000/48000 [==============================] - 4s 86us/step - loss: 0.0072 - acc: 0.9989 - val_loss: 0.0662 - val_acc: 0.9820\n",
            "Epoch 35/50\n",
            "19000/48000 [==========>...................] - ETA: 2s - loss: 0.0071 - acc: 0.9989"
          ],
          "name": "stdout"
        },
        {
          "output_type": "stream",
          "text": [
            "48000/48000 [==============================] - 4s 86us/step - loss: 0.0067 - acc: 0.9992 - val_loss: 0.0677 - val_acc: 0.9819\n",
            "Epoch 36/50\n",
            "48000/48000 [==============================] - 4s 86us/step - loss: 0.0063 - acc: 0.9990 - val_loss: 0.0667 - val_acc: 0.9816\n",
            "Epoch 37/50\n",
            "48000/48000 [==============================] - 4s 86us/step - loss: 0.0057 - acc: 0.9992 - val_loss: 0.0685 - val_acc: 0.9816\n",
            "Epoch 38/50\n",
            "48000/48000 [==============================] - 4s 85us/step - loss: 0.0052 - acc: 0.9993 - val_loss: 0.0663 - val_acc: 0.9826\n",
            "Epoch 39/50\n",
            "48000/48000 [==============================] - 4s 88us/step - loss: 0.0049 - acc: 0.9993 - val_loss: 0.0656 - val_acc: 0.9817\n",
            "Epoch 40/50\n",
            "19000/48000 [==========>...................] - ETA: 2s - loss: 0.0046 - acc: 0.9993"
          ],
          "name": "stdout"
        },
        {
          "output_type": "stream",
          "text": [
            "48000/48000 [==============================] - 4s 87us/step - loss: 0.0047 - acc: 0.9994 - val_loss: 0.0665 - val_acc: 0.9821\n",
            "Epoch 41/50\n",
            "48000/48000 [==============================] - 4s 85us/step - loss: 0.0043 - acc: 0.9995 - val_loss: 0.0676 - val_acc: 0.9823\n",
            "Epoch 42/50\n",
            "48000/48000 [==============================] - 4s 84us/step - loss: 0.0043 - acc: 0.9994 - val_loss: 0.0677 - val_acc: 0.9822\n",
            "Epoch 43/50\n",
            "48000/48000 [==============================] - 4s 83us/step - loss: 0.0045 - acc: 0.9995 - val_loss: 0.0679 - val_acc: 0.9825\n",
            "Epoch 44/50\n",
            "48000/48000 [==============================] - 4s 85us/step - loss: 0.0042 - acc: 0.9994 - val_loss: 0.0689 - val_acc: 0.9814\n",
            "Epoch 45/50\n",
            "19000/48000 [==========>...................] - ETA: 2s - loss: 0.0044 - acc: 0.9994"
          ],
          "name": "stdout"
        },
        {
          "output_type": "stream",
          "text": [
            "48000/48000 [==============================] - 4s 84us/step - loss: 0.0043 - acc: 0.9994 - val_loss: 0.0674 - val_acc: 0.9818\n",
            "Epoch 46/50\n",
            "48000/48000 [==============================] - 4s 85us/step - loss: 0.0036 - acc: 0.9997 - val_loss: 0.0668 - val_acc: 0.9822\n",
            "Epoch 47/50\n",
            "48000/48000 [==============================] - 4s 85us/step - loss: 0.0033 - acc: 0.9996 - val_loss: 0.0677 - val_acc: 0.9823\n",
            "Epoch 48/50\n",
            "48000/48000 [==============================] - 4s 85us/step - loss: 0.0034 - acc: 0.9995 - val_loss: 0.0680 - val_acc: 0.9824\n",
            "Epoch 49/50\n",
            "48000/48000 [==============================] - 4s 85us/step - loss: 0.0033 - acc: 0.9996 - val_loss: 0.0680 - val_acc: 0.9824\n",
            "Epoch 50/50\n",
            "19000/48000 [==========>...................] - ETA: 2s - loss: 0.0034 - acc: 0.9997"
          ],
          "name": "stdout"
        },
        {
          "output_type": "stream",
          "text": [
            "48000/48000 [==============================] - 4s 86us/step - loss: 0.0034 - acc: 0.9996 - val_loss: 0.0680 - val_acc: 0.9823\n"
          ],
          "name": "stdout"
        },
        {
          "output_type": "execute_result",
          "data": {
            "text/plain": [
              "<keras.callbacks.History at 0x7faca67015f8>"
            ]
          },
          "metadata": {
            "tags": []
          },
          "execution_count": 28
        }
      ]
    },
    {
      "metadata": {
        "id": "U7dqV5wUBFf3",
        "colab_type": "text"
      },
      "cell_type": "markdown",
      "source": [
        "##Evaluating the model"
      ]
    },
    {
      "metadata": {
        "id": "deObefHmBKkA",
        "colab_type": "code",
        "colab": {
          "base_uri": "https://localhost:8080/",
          "height": 68
        },
        "outputId": "f5de68e6-f946-4469-9f36-8437ae2b3e5d"
      },
      "cell_type": "code",
      "source": [
        "Y_test_categorical = to_categorical(Y_test, num_classes=10)\n",
        "X_test_flat = X_test.reshape(10000,784) / 255\n",
        "\n",
        "(loss, accuracy) = model.evaluate(x=X_test_flat, y=Y_test_categorical)\n",
        "\n",
        "print('loss = ', loss)\n",
        "print('accuracy = ', accuracy)"
      ],
      "execution_count": 35,
      "outputs": [
        {
          "output_type": "stream",
          "text": [
            "10000/10000 [==============================] - 1s 80us/step\n",
            "loss =  0.05938846991013052\n",
            "accuracy =  0.9833\n"
          ],
          "name": "stdout"
        }
      ]
    },
    {
      "metadata": {
        "id": "L8p1IqGbE1rz",
        "colab_type": "code",
        "colab": {}
      },
      "cell_type": "code",
      "source": [
        ""
      ],
      "execution_count": 0,
      "outputs": []
    }
  ]
}